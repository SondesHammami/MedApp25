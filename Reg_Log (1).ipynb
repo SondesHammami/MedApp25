{
  "nbformat": 4,
  "nbformat_minor": 0,
  "metadata": {
    "colab": {
      "provenance": []
    },
    "kernelspec": {
      "name": "python3",
      "display_name": "Python 3"
    },
    "language_info": {
      "name": "python"
    }
  },
  "cells": [
    {
      "cell_type": "code",
      "source": [
        "import pandas as pd\n",
        "import numpy as np\n",
        "from sklearn.linear_model import LogisticRegression\n",
        "from sklearn.model_selection import train_test_split\n",
        "from sklearn.metrics import accuracy_score\n",
        "\n",
        "# Chargement des données\n",
        "df = pd.read_excel(\"BD_ML.xlsx\")\n",
        "\n",
        "# Supposons que les deux dernières colonnes sont les cibles encodées en one-hot\n",
        "X = df.iloc[:, :-2]\n",
        "y_onehot = df.iloc[:, -2:].values\n",
        "\n",
        "# Conversion de la cible en une seule colonne\n",
        "y = np.argmax(y_onehot, axis=1)\n",
        "# Création d'un nouveau DataFrame combinant les caractéristiques et la cible\n",
        "df_final = X.copy()\n",
        "df_final['target'] = y\n",
        "\n",
        "# Sauvegarde du DataFrame final dans un fichier Excel\n",
        "df_final.to_excel(\"BD_ML_modifiee.xlsx\", index=False)\n",
        "\n",
        "# Division des données en ensembles d'entraînement et de test\n",
        "X_train, X_test, y_train, y_test = train_test_split(X, y, test_size=0.2, random_state=42)\n",
        "\n",
        "# Initialisation et entraînement du modèle\n",
        "model = LogisticRegression(C=1.0, solver='lbfgs', penalty='l2', max_iter=100)\n",
        "model.fit(X_train, y_train)\n",
        "\n",
        "# Prédictions et évaluation\n",
        "y_pred = model.predict(X_test)\n",
        "accuracy = accuracy_score(y_test, y_pred)\n",
        "print(f\"Précision du modèle : {accuracy * 100:.2f}%\")\n"
      ],
      "metadata": {
        "colab": {
          "base_uri": "https://localhost:8080/"
        },
        "id": "362gOc96X25C",
        "outputId": "64e8a84e-e674-425c-e802-f0931e18768a"
      },
      "execution_count": 4,
      "outputs": [
        {
          "output_type": "stream",
          "name": "stdout",
          "text": [
            "Précision du modèle : 94.12%\n"
          ]
        }
      ]
    },
    {
      "cell_type": "code",
      "source": [
        "from sklearn.metrics import accuracy_score, precision_score, recall_score, f1_score, classification_report\n",
        "\n",
        "# Prédictions sur l'ensemble de test\n",
        "y_pred = model.predict(X_test)\n",
        "\n",
        "# Précision (accuracy)\n",
        "accuracy = accuracy_score(y_test, y_pred)\n",
        "print(f\"Précision (Accuracy) : {accuracy:.2f}\")\n",
        "\n",
        "# Précision (precision)\n",
        "precision = precision_score(y_test, y_pred, average='binary')\n",
        "print(f\"Précision (Precision) : {precision:.2f}\")\n",
        "\n",
        "# Rappel (recall)\n",
        "recall = recall_score(y_test, y_pred, average='binary')\n",
        "print(f\"Rappel (Recall) : {recall:.2f}\")\n",
        "\n",
        "# Score F1\n",
        "f1 = f1_score(y_test, y_pred, average='binary')\n",
        "print(f\"Score F1 : {f1:.2f}\")\n",
        "\n",
        "# Rapport de classification complet\n",
        "print(\"\\nRapport de classification :\")\n",
        "print(classification_report(y_test, y_pred, target_names=['Classe 1', 'Classe 2']))\n"
      ],
      "metadata": {
        "colab": {
          "base_uri": "https://localhost:8080/"
        },
        "id": "s5YV9QrTLF84",
        "outputId": "de6e3d32-d9bc-4631-c614-0611215304ee"
      },
      "execution_count": 3,
      "outputs": [
        {
          "output_type": "stream",
          "name": "stdout",
          "text": [
            "Précision (Accuracy) : 0.94\n",
            "Précision (Precision) : 0.93\n",
            "Rappel (Recall) : 0.93\n",
            "Score F1 : 0.93\n",
            "\n",
            "Rapport de classification :\n",
            "              precision    recall  f1-score   support\n",
            "\n",
            "    Classe 1       0.95      0.95      0.95        20\n",
            "    Classe 2       0.93      0.93      0.93        14\n",
            "\n",
            "    accuracy                           0.94        34\n",
            "   macro avg       0.94      0.94      0.94        34\n",
            "weighted avg       0.94      0.94      0.94        34\n",
            "\n"
          ]
        }
      ]
    }
  ]
}