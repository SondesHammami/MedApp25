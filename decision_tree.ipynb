{
  "nbformat": 4,
  "nbformat_minor": 0,
  "metadata": {
    "colab": {
      "provenance": []
    },
    "kernelspec": {
      "name": "python3",
      "display_name": "Python 3"
    },
    "language_info": {
      "name": "python"
    }
  },
  "cells": [
    {
      "cell_type": "code",
      "execution_count": 1,
      "metadata": {
        "colab": {
          "base_uri": "https://localhost:8080/"
        },
        "id": "ej0AmjfwXisL",
        "outputId": "4ccf5c86-a9c6-4ae2-feb2-1c6607eef96c"
      },
      "outputs": [
        {
          "output_type": "stream",
          "name": "stdout",
          "text": [
            "Accuracy: 0.9705882352941176\n",
            "Precision: 0.972549019607843\n",
            "Recall: 0.9705882352941176\n",
            "F1-score: 0.9707182607791127\n",
            "\n",
            "Classification Report:\n",
            "               precision    recall  f1-score   support\n",
            "\n",
            "           0       1.00      0.95      0.97        20\n",
            "           1       0.93      1.00      0.97        14\n",
            "\n",
            "    accuracy                           0.97        34\n",
            "   macro avg       0.97      0.97      0.97        34\n",
            "weighted avg       0.97      0.97      0.97        34\n",
            "\n"
          ]
        }
      ],
      "source": [
        "import pandas as pd\n",
        "from sklearn.model_selection import train_test_split\n",
        "from sklearn.tree import DecisionTreeClassifier\n",
        "from sklearn.metrics import accuracy_score, precision_score, recall_score, f1_score, classification_report\n",
        "\n",
        "# 1. Charger les données\n",
        "file_path = 'BD_ML_1target.xlsx'  # ← à adapter\n",
        "df = pd.read_excel(file_path)\n",
        "\n",
        "# 2. Séparer X et y (la dernière colonne est la cible)\n",
        "X = df.iloc[:, :-1]  # toutes les colonnes sauf la dernière\n",
        "y = df.iloc[:, -1]   # dernière colonne\n",
        "\n",
        "# 3. Diviser en train/test\n",
        "X_train, X_test, y_train, y_test = train_test_split(X, y, test_size=0.2, random_state=42)\n",
        "\n",
        "# 4. Créer et entraîner le modèle\n",
        "clf = DecisionTreeClassifier(\n",
        "    max_depth=None,               # profondeur maximale de l’arbre\n",
        "    min_samples_split=2,         # nombre minimum d’échantillons pour un split\n",
        "    criterion='gini',            # fonction d’impureté\n",
        "    random_state=42\n",
        ")\n",
        "clf.fit(X_train, y_train)\n",
        "\n",
        "# 5. Prédictions\n",
        "y_pred = clf.predict(X_test)\n",
        "\n",
        "# 6. Évaluation\n",
        "accuracy = accuracy_score(y_test, y_pred)\n",
        "precision = precision_score(y_test, y_pred, average='weighted')  # 'weighted' gère les classes déséquilibrées\n",
        "recall = recall_score(y_test, y_pred, average='weighted')\n",
        "f1 = f1_score(y_test, y_pred, average='weighted')\n",
        "\n",
        "# Affichage des résultats\n",
        "print(\"Accuracy:\", accuracy)\n",
        "print(\"Precision:\", precision)\n",
        "print(\"Recall:\", recall)\n",
        "print(\"F1-score:\", f1)\n",
        "\n",
        "# Rapport détaillé par classe\n",
        "print(\"\\nClassification Report:\\n\", classification_report(y_test, y_pred))\n"
      ]
    }
  ]
}